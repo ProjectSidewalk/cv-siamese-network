{
 "cells": [
  {
   "cell_type": "code",
   "execution_count": 8,
   "metadata": {},
   "outputs": [],
   "source": [
    "import torchvision\n",
    "import torchvision.datasets as dset\n",
    "import torchvision.transforms as transforms\n",
    "from torchvision.models.resnet import ResNet, BasicBlock\n",
    "from sklearn.metrics import precision_score, recall_score, accuracy_score, f1_score\n",
    "from torch.utils.data import DataLoader,Dataset\n",
    "import torchvision.utils\n",
    "import numpy as np\n",
    "import random\n",
    "from PIL import Image\n",
    "import PIL.ImageOps\n",
    "import torch\n",
    "from torch.autograd import Variable\n",
    "import torch.nn as nn\n",
    "import torch.optim as optim\n",
    "import torch.nn.functional as F\n",
    "from tqdm.autonotebook import tqdm as tqdm_jupyter\n",
    "from tqdm import tqdm as tqdm_bash\n",
    "import inspect\n",
    "import os\n",
    "import time\n",
    "from siamese_tools import *\n",
    "import matplotlib.pyplot as plt\n",
    "import matplotlib"
   ]
  },
  {
   "cell_type": "code",
   "execution_count": 9,
   "metadata": {},
   "outputs": [],
   "source": [
    "def dist(tens1,tens2,scalar=1):\n",
    "    tens1 = (tens1.type(torch.cuda.DoubleTensor)*scalar).cpu().numpy().astype(np.longdouble)\n",
    "    tens2 = (tens2.type(torch.cuda.DoubleTensor)*scalar).cpu().numpy().astype(np.longdouble)\n",
    "    sub = tens1-tens2\n",
    "    sqr = np.power(sub,2)\n",
    "    s = np.sum(sqr,axis=1)\n",
    "    dis = np.power(s,0.5)\n",
    "    return dis"
   ]
  },
  {
   "cell_type": "markdown",
   "metadata": {},
   "source": [
    "# Settings for Validation\n",
    "## Base CNN"
   ]
  },
  {
   "cell_type": "code",
   "execution_count": 10,
   "metadata": {},
   "outputs": [],
   "source": [
    "model_name = \"skw.base_cnn.v1\"\n",
    "epochs = 20\n",
    "batch_size = 64\n",
    "pbar_type = \"jupyter\"\n",
    "image_type = \"L\"\n",
    "model_path = os.path.join(\"models\",model_name+\".ep_\"+str(epochs),\"epoch_19.pt\")\n",
    "transformation = transforms.Compose([transforms.Resize((100,100)),\n",
    "                                     transforms.ToTensor()])\n",
    "model_class = SiameseNetwork"
   ]
  },
  {
   "cell_type": "markdown",
   "metadata": {},
   "source": [
    "## Base ResNet"
   ]
  },
  {
   "cell_type": "code",
   "execution_count": 11,
   "metadata": {},
   "outputs": [],
   "source": [
    "model_name = \"skw.base_resnet.v1\"\n",
    "epochs = 20\n",
    "batch_size = 64\n",
    "pbar_type = \"jupyter\"\n",
    "image_type = \"RGB\"\n",
    "model_path = os.path.join(\"models\",model_name+\".ep_\"+str(epochs),\"epoch_19.pt\")\n",
    "transformation = transforms.Compose([transforms.Resize(256),\n",
    "                                     transforms.CenterCrop(224),\n",
    "                                     transforms.ToTensor(),\n",
    "                                     transforms.Normalize([0.485, 0.456, 0.406], [0.229, 0.224, 0.225])\n",
    "                                     ])\n",
    "model_class = SiameseResNet"
   ]
  },
  {
   "cell_type": "code",
   "execution_count": 12,
   "metadata": {},
   "outputs": [
    {
     "name": "stdout",
     "output_type": "stream",
     "text": [
      "CUDA availability: True\n",
      "Using model: models\\skw.base_resnet.v1.ep_20\\epoch_19.pt\n"
     ]
    }
   ],
   "source": [
    "root_dir = \"data\"\n",
    "test_dir = os.path.join(root_dir,\"test\")\n",
    "\n",
    "im_test_dset = dset.ImageFolder(root=test_dir)\n",
    "\n",
    "val_siamese_dset = SiameseDataset(imageFolderDataset=im_test_dset, transform=transformation,depth=image_type)\n",
    "val_loader = DataLoader(val_siamese_dset,shuffle=True,num_workers=0,batch_size=batch_size)\n",
    "\n",
    "loss_function = ContrastiveLoss()\n",
    "print(\"CUDA availability:\",torch.cuda.is_available())\n",
    "print(\"Using model:\", model_path)"
   ]
  },
  {
   "cell_type": "code",
   "execution_count": 13,
   "metadata": {
    "scrolled": false
   },
   "outputs": [
    {
     "data": {
      "application/vnd.jupyter.widget-view+json": {
       "model_id": "7ce953f58c4142d3b4034153ff5d96d6",
       "version_major": 2,
       "version_minor": 0
      },
      "text/plain": [
       "HBox(children=(IntProgress(value=0, description='Loss: ', max=665, style=ProgressStyle(description_width='init…"
      ]
     },
     "metadata": {},
     "output_type": "display_data"
    },
    {
     "name": "stdout",
     "output_type": "stream",
     "text": [
      "\n"
     ]
    }
   ],
   "source": [
    "model = model_class()\n",
    "device = torch.device(\"cuda:1\" if torch.cuda.is_available() else \"cpu\")\n",
    "#device = torch.device(\"cpu\")\n",
    "val_batches = len(val_loader)\n",
    "\n",
    "preds = np.array([])\n",
    "lbls = np.array([])\n",
    "\n",
    "model.load_state_dict(torch.load(model_path))\n",
    "model = model.to(device)\n",
    "model.eval()\n",
    "\n",
    "loss_function = ContrastiveLoss()\n",
    "\n",
    "if torch.cuda.is_available():\n",
    "    torch.cuda.empty_cache()\n",
    "\n",
    "total_loss = 0\n",
    "with torch.no_grad():\n",
    "    progress = None\n",
    "    if pbar_type == \"bash\":\n",
    "        progress = tqdm_bash(enumerate(val_loader,0), total=val_batches, unit=\" batch(es)\", desc=\"Loss: \", position=0, leave=True)\n",
    "    if pbar_type == \"jupyter\":\n",
    "        progress = tqdm_jupyter(enumerate(val_loader,0), total=val_batches, unit=\" batch(es)\", desc=\"Loss: \")\n",
    "    for i,data in progress:\n",
    "        img0, img1 , label = data\n",
    "        lbls = np.append(lbls,label.cpu().numpy())\n",
    "        img0, img1 , label = img0.to(device), img1.to(device) , label.to(device)\n",
    "        \n",
    "        output1, output2 = model(img0,img1)\n",
    "        euclidean_distance = dist(output1, output2)\n",
    "        preds = np.append(preds,euclidean_distance)\n",
    "        loss = loss_function(output1, output2,label)\n",
    "        total_loss += loss.item()\n",
    "        progress.set_description(\"Loss: {:.4f}\".format(total_loss/(i+1)))\n",
    "\n",
    "        if torch.cuda.is_available():\n",
    "            torch.cuda.empty_cache()\n"
   ]
  },
  {
   "cell_type": "code",
   "execution_count": 7,
   "metadata": {},
   "outputs": [
    {
     "data": {
      "image/png": "[encoded data removed]",
      "text/plain": [
       "<Figure size 640x480 with 1 Axes>"
      ]
     },
     "metadata": {},
     "output_type": "display_data"
    }
   ],
   "source": [
    "matplotlib.rcParams.update(matplotlib.rcParamsDefault)\n",
    "plt.style.use('fivethirtyeight')#'ggplot')\n",
    "\n",
    "same = preds[lbls==0]\n",
    "diff = preds[lbls==1]\n",
    "\n",
    "bins = 50\n",
    "plt.hist(same, bins, alpha=0.5, label='same')\n",
    "plt.hist(diff, bins, alpha=0.5, label='diff')\n",
    "plt.legend(loc='upper right')\n",
    "plt.xticks(rotation='vertical')\n",
    "plt.savefig(model_name+\".ep_\"+str(epochs)+\".full_test\"+\".png\")\n",
    "plt.show()"
   ]
  },
  {
   "cell_type": "code",
   "execution_count": null,
   "metadata": {},
   "outputs": [],
   "source": []
  }
 ],
 "metadata": {
  "kernelspec": {
   "display_name": "Python 3",
   "language": "python",
   "name": "python3"
  },
  "language_info": {
   "codemirror_mode": {
    "name": "ipython",
    "version": 3
   },
   "file_extension": ".py",
   "mimetype": "text/x-python",
   "name": "python",
   "nbconvert_exporter": "python",
   "pygments_lexer": "ipython3",
   "version": "3.6.8"
  }
 },
 "nbformat": 4,
 "nbformat_minor": 2
}
